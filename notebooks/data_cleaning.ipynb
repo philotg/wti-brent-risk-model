{
 "cells": [
  {
   "cell_type": "code",
   "execution_count": 2,
   "metadata": {},
   "outputs": [],
   "source": [
    "import pandas as pd\n",
    "import os"
   ]
  },
  {
   "cell_type": "code",
   "execution_count": 4,
   "metadata": {},
   "outputs": [],
   "source": [
    "# Load raw data\n",
    "wti = pd.read_csv('../data/raw/wti/yfinance/_1d_2020-07-07_to_2025-07-07_prices.csv', parse_dates=['Date'])\n",
    "brent = pd.read_csv('../data/raw/brent/yfinance/_1d_2020-07-07_to_2025-07-07_prices.csv', parse_dates=['Date'])"
   ]
  },
  {
   "cell_type": "code",
   "execution_count": null,
   "metadata": {},
   "outputs": [],
   "source": [
    "wti.set_index('Date', inplace=True)\n",
    "brent.set_index('Date', inplace=True)\n",
    "\n",
    "wti.sort_index(inplace=True)\n",
    "brent.sort_index(inplace=True)"
   ]
  },
  {
   "cell_type": "code",
   "execution_count": 7,
   "metadata": {},
   "outputs": [],
   "source": [
    "# Combine date ranges\n",
    "all_dates = pd.date_range(\n",
    "    start=min(wti.index.min(), brent.index.min()),\n",
    "    end=max(wti.index.max(), brent.index.max()),\n",
    "    freq='B'  # Business days only\n",
    ")\n",
    "\n",
    "# Reindex and forward-fill missing values\n",
    "wti_aligned = wti.reindex(all_dates).ffill()\n",
    "brent_aligned = brent.reindex(all_dates).ffill()"
   ]
  },
  {
   "cell_type": "code",
   "execution_count": null,
   "metadata": {},
   "outputs": [],
   "source": [
    "# Save to CSV\n",
    "wti_aligned.to_csv('../data/processed/wti/yfinance/_1d_2020-07-07_to_2025-07-07_prices.csv')\n",
    "brent_aligned.to_csv('../data/processed/brent/yfinance/_1d_2020-07-07_to_2025-07-07_prices.csv')"
   ]
  }
 ],
 "metadata": {
  "kernelspec": {
   "display_name": "wti-wcs-risk-model",
   "language": "python",
   "name": "python3"
  },
  "language_info": {
   "codemirror_mode": {
    "name": "ipython",
    "version": 3
   },
   "file_extension": ".py",
   "mimetype": "text/x-python",
   "name": "python",
   "nbconvert_exporter": "python",
   "pygments_lexer": "ipython3",
   "version": "3.13.5"
  }
 },
 "nbformat": 4,
 "nbformat_minor": 2
}
