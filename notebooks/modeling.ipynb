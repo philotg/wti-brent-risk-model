{
 "cells": [
  {
   "cell_type": "code",
   "execution_count": 11,
   "metadata": {},
   "outputs": [],
   "source": [
    "import pandas as pd\n",
    "import sys\n",
    "\n",
    "from statsmodels.tsa.stattools import adfuller\n",
    "from statsmodels.tsa.stattools import kpss\n",
    "\n",
    "sys.path.append('C:/Users/tillm/program_projects/wti-brent-risk-model')\n",
    "\n",
    "from src.features.compute_spread import compute_spread"
   ]
  },
  {
   "cell_type": "code",
   "execution_count": 13,
   "metadata": {},
   "outputs": [],
   "source": [
    "wti = pd.read_csv('../data/processed/wti/yfinance/_1d_2020-07-07_to_2025-07-07_prices.csv',\n",
    "                  parse_dates=True, \n",
    "                  index_col=0)\n",
    "\n",
    "brent = pd.read_csv('../data/processed/brent/yfinance/_1d_2020-07-07_to_2025-07-07_prices.csv',\n",
    "                    parse_dates=True, \n",
    "                    index_col=0)\n",
    "\n",
    "wti_brent_spread = compute_spread(wti, brent)"
   ]
  },
  {
   "cell_type": "code",
   "execution_count": 14,
   "metadata": {},
   "outputs": [],
   "source": [
    "def adf_test(series):\n",
    "    result = adfuller(series)\n",
    "    print('ADF Statistic:', result[0])\n",
    "    print('p-value:', result[1])\n",
    "    print('Critical Values:', result[4])\n",
    "    return result[1]  # Return p-value\n",
    "\n",
    "def kpss_test(series):\n",
    "    result = kpss(series, regression='c')\n",
    "    print('KPSS Statistic:', result[0])\n",
    "    print('p-value:', result[1])\n",
    "    print('Critical Values:', result[3])\n",
    "    return result[1]  # Return p-value"
   ]
  },
  {
   "cell_type": "code",
   "execution_count": 15,
   "metadata": {},
   "outputs": [
    {
     "name": "stdout",
     "output_type": "stream",
     "text": [
      "ADF Statistic: -2.9767515651238186\n",
      "p-value: 0.037123291937070715\n",
      "Critical Values: {'1%': np.float64(-3.4354651071284366), '5%': np.float64(-2.8637988833962726), '10%': np.float64(-2.567972648569954)}\n",
      "KPSS Statistic: 1.170419554579737\n",
      "p-value: 0.01\n",
      "Critical Values: {'10%': 0.347, '5%': 0.463, '2.5%': 0.574, '1%': 0.739}\n"
     ]
    },
    {
     "name": "stderr",
     "output_type": "stream",
     "text": [
      "C:\\Users\\tillm\\AppData\\Local\\Temp\\ipykernel_15520\\992352833.py:9: InterpolationWarning: The test statistic is outside of the range of p-values available in the\n",
      "look-up table. The actual p-value is smaller than the p-value returned.\n",
      "\n",
      "  result = kpss(series, regression='c')\n"
     ]
    }
   ],
   "source": [
    "# Apply tests to the spread\n",
    "adf_p_value = adf_test(wti_brent_spread['Spread'])\n",
    "kpss_p_value = kpss_test(wti_brent_spread['Spread'])"
   ]
  }
 ],
 "metadata": {
  "kernelspec": {
   "display_name": "wti-wcs-risk-model",
   "language": "python",
   "name": "python3"
  },
  "language_info": {
   "codemirror_mode": {
    "name": "ipython",
    "version": 3
   },
   "file_extension": ".py",
   "mimetype": "text/x-python",
   "name": "python",
   "nbconvert_exporter": "python",
   "pygments_lexer": "ipython3",
   "version": "3.13.5"
  }
 },
 "nbformat": 4,
 "nbformat_minor": 2
}
